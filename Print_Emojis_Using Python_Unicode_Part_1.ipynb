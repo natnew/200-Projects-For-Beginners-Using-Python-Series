{
  "nbformat": 4,
  "nbformat_minor": 0,
  "metadata": {
    "colab": {
      "name": "Print Emojis Using Python: Unicode Part 1.ipynb",
      "provenance": [],
      "authorship_tag": "ABX9TyO27//t7YOzdeB/doSaM8HR",
      "include_colab_link": true
    },
    "kernelspec": {
      "name": "python3",
      "display_name": "Python 3"
    },
    "language_info": {
      "name": "python"
    }
  },
  "cells": [
    {
      "cell_type": "markdown",
      "metadata": {
        "id": "view-in-github",
        "colab_type": "text"
      },
      "source": [
        "<a href=\"https://colab.research.google.com/github/natnew/200-Projects-For-Beginners-Using-Python-Series/blob/main/Print_Emojis_Using%C2%A0Python_Unicode_Part_1.ipynb\" target=\"_parent\"><img src=\"https://colab.research.google.com/assets/colab-badge.svg\" alt=\"Open In Colab\"/></a>"
      ]
    },
    {
      "cell_type": "code",
      "execution_count": 1,
      "metadata": {
        "colab": {
          "base_uri": "https://localhost:8080/"
        },
        "id": "BSOiyUx_oEV1",
        "outputId": "b5e9b07c-224f-4c8c-8ea8-281886c4f587"
      },
      "outputs": [
        {
          "output_type": "stream",
          "name": "stdout",
          "text": [
            "😀\n"
          ]
        }
      ],
      "source": [
        "#CLDR Short Name: grinning face\n",
        "print(\"\\U0001F600\")"
      ]
    },
    {
      "cell_type": "code",
      "source": [
        "#CLDR Short Name: grinning face with big eyes\n",
        "print(\"\\U0001F603\")"
      ],
      "metadata": {
        "colab": {
          "base_uri": "https://localhost:8080/"
        },
        "id": "Q3PqEzeXoSJm",
        "outputId": "921e631c-8db8-4448-bd70-b0833b5638b5"
      },
      "execution_count": 2,
      "outputs": [
        {
          "output_type": "stream",
          "name": "stdout",
          "text": [
            "😃\n"
          ]
        }
      ]
    },
    {
      "cell_type": "code",
      "source": [
        "#CLDR Short Name: grinning face with smiling eyes\n",
        "print(\"\\U0001F604\")"
      ],
      "metadata": {
        "colab": {
          "base_uri": "https://localhost:8080/"
        },
        "id": "wcy8TmZkoWOg",
        "outputId": "43d2d7ba-6c77-4c76-c402-abd711b2ab1f"
      },
      "execution_count": 3,
      "outputs": [
        {
          "output_type": "stream",
          "name": "stdout",
          "text": [
            "😄\n"
          ]
        }
      ]
    },
    {
      "cell_type": "code",
      "source": [
        "#CLDR Short Name: beaming face with smiling eyes\n",
        "print(\"\\U0001F601\")"
      ],
      "metadata": {
        "colab": {
          "base_uri": "https://localhost:8080/"
        },
        "id": "cYqxE1XzoWqO",
        "outputId": "ab326f39-70ea-4e51-ba9c-af963c422ebe"
      },
      "execution_count": 4,
      "outputs": [
        {
          "output_type": "stream",
          "name": "stdout",
          "text": [
            "😁\n"
          ]
        }
      ]
    },
    {
      "cell_type": "code",
      "source": [
        "#CLDR Short Name: grinning squinting face\n",
        "print(\"\\U0001F606\")"
      ],
      "metadata": {
        "colab": {
          "base_uri": "https://localhost:8080/"
        },
        "id": "fbW1zWaRoW5-",
        "outputId": "744b6005-7205-473b-90e7-103127266428"
      },
      "execution_count": 5,
      "outputs": [
        {
          "output_type": "stream",
          "name": "stdout",
          "text": [
            "😆\n"
          ]
        }
      ]
    },
    {
      "cell_type": "code",
      "source": [
        "#CLDR Short Name: grinning face with sweat\n",
        "print(\"\\U0001F605\")"
      ],
      "metadata": {
        "colab": {
          "base_uri": "https://localhost:8080/"
        },
        "id": "6QXU6jN4oXFL",
        "outputId": "4594c010-5a05-4733-a4ed-16bea16d9207"
      },
      "execution_count": 6,
      "outputs": [
        {
          "output_type": "stream",
          "name": "stdout",
          "text": [
            "😅\n"
          ]
        }
      ]
    },
    {
      "cell_type": "code",
      "source": [
        "#CLDR Short Name: rolling on the floor laughing\n",
        "print(\"\\U0001F923\")"
      ],
      "metadata": {
        "colab": {
          "base_uri": "https://localhost:8080/"
        },
        "id": "T1-xToWKoXSd",
        "outputId": "252bf2b4-f57e-4fb5-976e-72ca75b59baa"
      },
      "execution_count": 7,
      "outputs": [
        {
          "output_type": "stream",
          "name": "stdout",
          "text": [
            "🤣\n"
          ]
        }
      ]
    },
    {
      "cell_type": "code",
      "source": [
        "#CLDR Short Name: face with tears of joy\n",
        "print(\"\\U0001F602\")"
      ],
      "metadata": {
        "colab": {
          "base_uri": "https://localhost:8080/"
        },
        "id": "2ValV536oXb-",
        "outputId": "e9c3e4cb-50b3-41f8-bd22-cb1c954fc564"
      },
      "execution_count": 8,
      "outputs": [
        {
          "output_type": "stream",
          "name": "stdout",
          "text": [
            "😂\n"
          ]
        }
      ]
    },
    {
      "cell_type": "code",
      "source": [
        "#CLDR Short Name: slightly smiling face\n",
        "print(\"\\U0001F642\t\")"
      ],
      "metadata": {
        "colab": {
          "base_uri": "https://localhost:8080/"
        },
        "id": "efedrkwboXlu",
        "outputId": "49b6f7ea-4727-4a2a-fd3b-45191354ec5e"
      },
      "execution_count": 9,
      "outputs": [
        {
          "output_type": "stream",
          "name": "stdout",
          "text": [
            "🙂\t\n"
          ]
        }
      ]
    },
    {
      "cell_type": "code",
      "source": [
        "#CLDR Short Name: upside-down face\n",
        "print(\"\\U0001F643\")"
      ],
      "metadata": {
        "colab": {
          "base_uri": "https://localhost:8080/"
        },
        "id": "2z_8MrhooX32",
        "outputId": "b7db9624-5d7b-4b66-e36b-8e297710b5c1"
      },
      "execution_count": 10,
      "outputs": [
        {
          "output_type": "stream",
          "name": "stdout",
          "text": [
            "🙃\n"
          ]
        }
      ]
    }
  ]
}