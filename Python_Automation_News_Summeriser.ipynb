{
  "nbformat": 4,
  "nbformat_minor": 0,
  "metadata": {
    "colab": {
      "name": "Python Automation: News Summeriser.ipynb",
      "provenance": [],
      "authorship_tag": "ABX9TyMOajw31ICtM239LKsq9Q2g",
      "include_colab_link": true
    },
    "kernelspec": {
      "name": "python3",
      "display_name": "Python 3"
    },
    "language_info": {
      "name": "python"
    }
  },
  "cells": [
    {
      "cell_type": "markdown",
      "metadata": {
        "id": "view-in-github",
        "colab_type": "text"
      },
      "source": [
        "<a href=\"https://colab.research.google.com/github/natnew/200-Projects-For-Beginners-Using-Python-Series/blob/main/Python_Automation_News_Summeriser.ipynb\" target=\"_parent\"><img src=\"https://colab.research.google.com/assets/colab-badge.svg\" alt=\"Open In Colab\"/></a>"
      ]
    },
    {
      "cell_type": "markdown",
      "source": [
        "#News Summeriser"
      ],
      "metadata": {
        "id": "7jbmIpz3OLpG"
      }
    },
    {
      "cell_type": "markdown",
      "source": [
        "##Environment Setup"
      ],
      "metadata": {
        "id": "NMoVKDAiOOVl"
      }
    },
    {
      "cell_type": "code",
      "execution_count": 1,
      "metadata": {
        "colab": {
          "base_uri": "https://localhost:8080/"
        },
        "id": "yUJOgwvwNT9R",
        "outputId": "cd6dd98b-affa-4d64-bd3c-4c0673d68798"
      },
      "outputs": [
        {
          "output_type": "stream",
          "name": "stdout",
          "text": [
            "Looking in indexes: https://pypi.org/simple, https://us-python.pkg.dev/colab-wheels/public/simple/\n",
            "Requirement already satisfied: Gensim in /usr/local/lib/python3.7/dist-packages (3.6.0)\n",
            "Requirement already satisfied: smart-open>=1.2.1 in /usr/local/lib/python3.7/dist-packages (from Gensim) (5.2.1)\n",
            "Requirement already satisfied: six>=1.5.0 in /usr/local/lib/python3.7/dist-packages (from Gensim) (1.15.0)\n",
            "Requirement already satisfied: numpy>=1.11.3 in /usr/local/lib/python3.7/dist-packages (from Gensim) (1.21.6)\n",
            "Requirement already satisfied: scipy>=0.18.1 in /usr/local/lib/python3.7/dist-packages (from Gensim) (1.7.3)\n"
          ]
        }
      ],
      "source": [
        "#Gensim for text rank algorithm (Topic modelling in Python) For natural language processing, information retrieval and abstraction\n",
        "\n",
        "!pip install Gensim"
      ]
    },
    {
      "cell_type": "code",
      "source": [
        "import gensim"
      ],
      "metadata": {
        "id": "hTJePgZdPyO8"
      },
      "execution_count": 2,
      "outputs": []
    },
    {
      "cell_type": "code",
      "source": [
        "#BeautifulSoup for text extraction from the internet (webscraping)\n",
        "!pip install beautifulsoup4"
      ],
      "metadata": {
        "colab": {
          "base_uri": "https://localhost:8080/"
        },
        "id": "e8E7VJIDP7ly",
        "outputId": "3ca020d4-2548-440d-e7ce-b531f4e12977"
      },
      "execution_count": 3,
      "outputs": [
        {
          "output_type": "stream",
          "name": "stdout",
          "text": [
            "Looking in indexes: https://pypi.org/simple, https://us-python.pkg.dev/colab-wheels/public/simple/\n",
            "Requirement already satisfied: beautifulsoup4 in /usr/local/lib/python3.7/dist-packages (4.6.3)\n"
          ]
        }
      ]
    },
    {
      "cell_type": "code",
      "source": [
        "from bs4 import BeautifulSoup"
      ],
      "metadata": {
        "id": "6c_yQwR7QJQy"
      },
      "execution_count": 4,
      "outputs": []
    },
    {
      "cell_type": "code",
      "source": [
        "from gensim.summarization.summarizer import summarize\n",
        "from gensim.summarization import keywords\n"
      ],
      "metadata": {
        "id": "3B6q8LM3RBNi"
      },
      "execution_count": 11,
      "outputs": []
    },
    {
      "cell_type": "code",
      "source": [
        "!pip install requests"
      ],
      "metadata": {
        "colab": {
          "base_uri": "https://localhost:8080/"
        },
        "id": "_NEXKuIVRb7y",
        "outputId": "8e572de4-fc88-4ebd-fc48-5cd564876a5a"
      },
      "execution_count": 16,
      "outputs": [
        {
          "output_type": "stream",
          "name": "stdout",
          "text": [
            "Looking in indexes: https://pypi.org/simple, https://us-python.pkg.dev/colab-wheels/public/simple/\n",
            "Requirement already satisfied: requests in /usr/local/lib/python3.7/dist-packages (2.23.0)\n",
            "Requirement already satisfied: chardet<4,>=3.0.2 in /usr/local/lib/python3.7/dist-packages (from requests) (3.0.4)\n",
            "Requirement already satisfied: idna<3,>=2.5 in /usr/local/lib/python3.7/dist-packages (from requests) (2.10)\n",
            "Requirement already satisfied: urllib3!=1.25.0,!=1.25.1,<1.26,>=1.21.1 in /usr/local/lib/python3.7/dist-packages (from requests) (1.24.3)\n",
            "Requirement already satisfied: certifi>=2017.4.17 in /usr/local/lib/python3.7/dist-packages (from requests) (2022.6.15)\n"
          ]
        }
      ]
    },
    {
      "cell_type": "code",
      "source": [
        "from requests import get"
      ],
      "metadata": {
        "id": "ZkqiLNlaRYdI"
      },
      "execution_count": 19,
      "outputs": []
    },
    {
      "cell_type": "markdown",
      "source": [
        "#Project"
      ],
      "metadata": {
        "id": "bzr1gRZ2OQ7O"
      }
    },
    {
      "cell_type": "code",
      "source": [
        "import sys #for argument parsing\n",
        "# Exception Handling\n",
        "\n",
        "if len(sys.argv) > 1:\n",
        "    url = sys.argv[1]\n",
        "else:\n",
        "    sys.exit(\"Error: Please enter the  URL\")"
      ],
      "metadata": {
        "id": "OtKKQaGZQfg9"
      },
      "execution_count": 6,
      "outputs": []
    },
    {
      "cell_type": "code",
      "source": [
        "# ### Create a Function to only extract text from html `<p>` tags\n",
        "\n",
        "def get_only_text(url):\n",
        " \"\"\" \n",
        "  return the title and the text of the article\n",
        "  at the specified url\n",
        " \"\"\"\n",
        " page = get(url)\n",
        " soup = BeautifulSoup(page.content, \"lxml\")\n",
        " text = ' '.join(map(lambda p: p.text, soup.find_all('p')))\n",
        " #text = soup.text\n",
        " title = ' '.join(soup.title.stripped_strings)\n",
        " return title , text    \n"
      ],
      "metadata": {
        "id": "1XOymAdpQuhQ"
      },
      "execution_count": 27,
      "outputs": []
    },
    {
      "cell_type": "code",
      "source": [
        "#Call the desired news URL\n",
        "url = \"https://www.theguardian.com/uk-news/live/2022/jul/18/uk-weather-heatwave-met-office-warning-forecast-temperature-london-schools-latest-updates\"\n",
        "\n",
        "\n",
        "text = get_only_text(url)\n",
        "\n",
        "\n"
      ],
      "metadata": {
        "id": "AA94k6I4Qyq1"
      },
      "execution_count": 37,
      "outputs": []
    },
    {
      "cell_type": "code",
      "source": [
        "#Print the text\n",
        "print (\"Title : \" + text[0])\n",
        "print (\"Summary : \")\n",
        "print (summarize(repr(text[1]), word_count=100))"
      ],
      "metadata": {
        "colab": {
          "base_uri": "https://localhost:8080/"
        },
        "id": "sqMojzR1RE5u",
        "outputId": "5c613a47-8018-44a2-e04d-1da3df21f707"
      },
      "execution_count": 38,
      "outputs": [
        {
          "output_type": "stream",
          "name": "stdout",
          "text": [
            "Title : UK heatwave live: red weather warning in effect with temperatures forecast to exceed 40C | UK weather | The Guardian\n",
            "Summary : \n",
            "'Latest updates: Met Office issues red extreme heat warning for much of UK with mass disruption expect for schools, transport and other services Jake Kelly, spokesperson for Network Rail, has warned that services returning to normal on Wednesday “will depend on the damage that the weather does to the infrastructure” over the course of Monday and Tuesday.Speaking to BBC Radio 4’s Today programme, Kelly said: .css-knbk2a{height:1em;width:1.5em;margin-right:3px;vertical-align:baseline;fill:#C70000;} Our advice very strongly to customers in England and Wales today and tomorrow is to only travel if absolutely essential, and to expect a very reduced train service and delays.\n"
          ]
        }
      ]
    },
    {
      "cell_type": "code",
      "source": [
        "#Find out how many words we have extracted\n",
        "print(\"\\n\\nLength of the summarized text: \" + str(len(str.split((summarize(repr(text[1]), word_count=100))))))"
      ],
      "metadata": {
        "colab": {
          "base_uri": "https://localhost:8080/"
        },
        "id": "kqYu1RIrRF6a",
        "outputId": "f7b37359-587a-420a-e1d1-864d587868fa"
      },
      "execution_count": 39,
      "outputs": [
        {
          "output_type": "stream",
          "name": "stdout",
          "text": [
            "\n",
            "\n",
            "Length of the summarized text: 96\n"
          ]
        }
      ]
    },
    {
      "cell_type": "markdown",
      "source": [
        "Thank you 1littlecoder and freecodecamp!"
      ],
      "metadata": {
        "id": "4zdbC6ZDPTba"
      }
    }
  ]
}