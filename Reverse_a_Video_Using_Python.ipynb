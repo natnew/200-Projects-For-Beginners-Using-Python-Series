{
  "nbformat": 4,
  "nbformat_minor": 0,
  "metadata": {
    "colab": {
      "name": "Reverse a Video Using Python.ipynb",
      "provenance": [],
      "authorship_tag": "ABX9TyNWYtyaiJmkyeYje5jNXsnP",
      "include_colab_link": true
    },
    "kernelspec": {
      "name": "python3",
      "display_name": "Python 3"
    },
    "language_info": {
      "name": "python"
    }
  },
  "cells": [
    {
      "cell_type": "markdown",
      "metadata": {
        "id": "view-in-github",
        "colab_type": "text"
      },
      "source": [
        "<a href=\"https://colab.research.google.com/github/natnew/200-Projects-For-Beginners-Using-Python-Series/blob/main/Reverse_a_Video_Using_Python.ipynb\" target=\"_parent\"><img src=\"https://colab.research.google.com/assets/colab-badge.svg\" alt=\"Open In Colab\"/></a>"
      ]
    },
    {
      "cell_type": "code",
      "execution_count": 1,
      "metadata": {
        "id": "YqWOFbVq7X0t"
      },
      "outputs": [],
      "source": [
        "#import cv2\n",
        "import cv2"
      ]
    },
    {
      "cell_type": "code",
      "source": [
        "#Read the video\n",
        "cap =cv2.VideoCapture('samplevideo.mp4')"
      ],
      "metadata": {
        "id": "T5ry__zX7hV1"
      },
      "execution_count": 3,
      "outputs": []
    },
    {
      "cell_type": "code",
      "source": [
        "#Work with the frames\n",
        "frames = cap.get(cv2.CAP_PROP_FRAME_COUNT)"
      ],
      "metadata": {
        "id": "I9gdAEAT76pV"
      },
      "execution_count": 4,
      "outputs": []
    },
    {
      "cell_type": "code",
      "source": [
        "#Work with the frames\n",
        "fps = cap.get(cv2.CAP_PROP_FPS)"
      ],
      "metadata": {
        "id": "1IlUZ9Qi8Dm1"
      },
      "execution_count": 5,
      "outputs": []
    },
    {
      "cell_type": "code",
      "source": [
        "#Extract the height and width\n",
        "height = cap.get(cv2.CAP_PROP_FRAME_HEIGHT)"
      ],
      "metadata": {
        "id": "ctRPKAXy8Qpg"
      },
      "execution_count": 6,
      "outputs": []
    },
    {
      "cell_type": "code",
      "source": [
        "#Extract the height and width\n",
        "width = cap.get(cv2.CAP_PROP_FRAME_WIDTH)"
      ],
      "metadata": {
        "id": "o0VkH5mT8btT"
      },
      "execution_count": 7,
      "outputs": []
    },
    {
      "cell_type": "code",
      "source": [
        "#Initiate the output writer\n",
        "fourcc = cv2.VideoWriter_fourcc(*'MJPG')"
      ],
      "metadata": {
        "id": "1Re7-bIE8gag"
      },
      "execution_count": 11,
      "outputs": []
    },
    {
      "cell_type": "code",
      "source": [
        "#Set the video type\n",
        "out = cv2.VideoWriter('reverse2.avi', fourcc,fps,(int(width*0.5), int(width*0.5)))"
      ],
      "metadata": {
        "id": "e6Wk_xB_9D0Q"
      },
      "execution_count": 12,
      "outputs": []
    },
    {
      "cell_type": "code",
      "source": [
        "#Print the total number of frames\n",
        "print(\"No. of frames are: {}\".format(frames))"
      ],
      "metadata": {
        "colab": {
          "base_uri": "https://localhost:8080/"
        },
        "id": "BZt2wdVS9Vy1",
        "outputId": "14d5fe9c-9cae-49b4-855c-52960fc43457"
      },
      "execution_count": 13,
      "outputs": [
        {
          "output_type": "stream",
          "name": "stdout",
          "text": [
            "No. of frames are: 14.0\n"
          ]
        }
      ]
    },
    {
      "cell_type": "code",
      "source": [
        "#Print the frames per second\n",
        "print(\"FPS  is : {}\".format(fps))"
      ],
      "metadata": {
        "colab": {
          "base_uri": "https://localhost:8080/"
        },
        "id": "Laqwe-Z69xxj",
        "outputId": "7ea8dbb1-8863-411a-9d2c-155dced14960"
      },
      "execution_count": 16,
      "outputs": [
        {
          "output_type": "stream",
          "name": "stdout",
          "text": [
            "FPS  is : 3.3333333333333335\n"
          ]
        }
      ]
    },
    {
      "cell_type": "code",
      "source": [
        "#Get the last frame's index\n",
        "frame_index = frames-1"
      ],
      "metadata": {
        "id": "-rMzipWb97Cd"
      },
      "execution_count": 17,
      "outputs": []
    },
    {
      "cell_type": "code",
      "source": [
        "#Loop over everything\n",
        "if(cap.isOpened()):\n",
        "  while(frame_index!=0):\n",
        "    cap.set(cv2.CAP_PROP_POS_FRAMES, frame_index)\n",
        "    ret, frame = cap.read()\n",
        "    frame = cv2.resize(frame,(int(width*0.5), int(width*0.5)))\n",
        "    out.write(frame)\n",
        "    frame_index = frame_index-1\n",
        "    if(frame_index%100==0):\n",
        "      print(frame_index)\n",
        "\n",
        "out.release()\n",
        "cap.release()\n",
        "cv2.destroyAllWindows"
      ],
      "metadata": {
        "colab": {
          "base_uri": "https://localhost:8080/"
        },
        "id": "vz-vocuh-Gox",
        "outputId": "fd04842a-8734-4284-8e17-c4047722b046"
      },
      "execution_count": 18,
      "outputs": [
        {
          "output_type": "stream",
          "name": "stdout",
          "text": [
            "0.0\n"
          ]
        },
        {
          "output_type": "execute_result",
          "data": {
            "text/plain": [
              "<function destroyAllWindows>"
            ]
          },
          "metadata": {},
          "execution_count": 18
        }
      ]
    },
    {
      "cell_type": "markdown",
      "source": [
        "Thank you to Analytics Vidhya!"
      ],
      "metadata": {
        "id": "F-ZrbE-mBJDv"
      }
    }
  ]
}