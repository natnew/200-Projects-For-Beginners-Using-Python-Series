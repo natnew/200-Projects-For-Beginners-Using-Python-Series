{
  "nbformat": 4,
  "nbformat_minor": 0,
  "metadata": {
    "colab": {
      "name": "Python Automation - Image Type converter.ipynb",
      "provenance": [],
      "authorship_tag": "ABX9TyOjHU4bnox2EvvgaDE1YO3I",
      "include_colab_link": true
    },
    "kernelspec": {
      "name": "python3",
      "display_name": "Python 3"
    },
    "language_info": {
      "name": "python"
    }
  },
  "cells": [
    {
      "cell_type": "markdown",
      "metadata": {
        "id": "view-in-github",
        "colab_type": "text"
      },
      "source": [
        "<a href=\"https://colab.research.google.com/github/natnew/200-Projects-For-Beginners-Using-Python-Series/blob/main/Python_Automation_Image_Type_converter.ipynb\" target=\"_parent\"><img src=\"https://colab.research.google.com/assets/colab-badge.svg\" alt=\"Open In Colab\"/></a>"
      ]
    },
    {
      "cell_type": "markdown",
      "source": [
        "# Image Type Converter"
      ],
      "metadata": {
        "id": "VvG-ArglG66E"
      }
    },
    {
      "cell_type": "markdown",
      "source": [
        "## Environment Setup"
      ],
      "metadata": {
        "id": "cUj8FYDTHAQk"
      }
    },
    {
      "cell_type": "code",
      "source": [
        "#Install Pillow (library for image manipulation) Supports the latest version of python\n",
        "! pip install Pillow"
      ],
      "metadata": {
        "colab": {
          "base_uri": "https://localhost:8080/"
        },
        "id": "WrWb6pXmHWEN",
        "outputId": "dcf34ef7-3869-4bd2-a6be-b72f7c0771af"
      },
      "execution_count": 6,
      "outputs": [
        {
          "output_type": "stream",
          "name": "stdout",
          "text": [
            "Looking in indexes: https://pypi.org/simple, https://us-python.pkg.dev/colab-wheels/public/simple/\n",
            "Requirement already satisfied: Pillow in /usr/local/lib/python3.7/dist-packages (7.1.2)\n"
          ]
        }
      ]
    },
    {
      "cell_type": "code",
      "execution_count": 7,
      "metadata": {
        "id": "Len3TfSfG3r9"
      },
      "outputs": [],
      "source": [
        "#Import Image from PIL (python imaging library) Supports older versions of Python\n",
        "from PIL import Image  # Python Image Library - Image Processing \n",
        "\n"
      ]
    },
    {
      "cell_type": "code",
      "source": [
        "#Import glob (Unix style pathname pattern expansion) identify image files in our folder\n",
        "import glob"
      ],
      "metadata": {
        "id": "NGCULC2sHS4T"
      },
      "execution_count": 8,
      "outputs": []
    },
    {
      "cell_type": "markdown",
      "source": [
        "## Project"
      ],
      "metadata": {
        "id": "_hzJReJ5HDdA"
      }
    },
    {
      "cell_type": "code",
      "source": [
        "#Tells us that anything starting with  \"*.png\" must be listed\n",
        "print(glob.glob(\"*.png\"))"
      ],
      "metadata": {
        "colab": {
          "base_uri": "https://localhost:8080/"
        },
        "id": "WW-TeVC0Hdg4",
        "outputId": "256d7497-6668-45b3-a572-2e4d271f3e85"
      },
      "execution_count": 9,
      "outputs": [
        {
          "output_type": "stream",
          "name": "stdout",
          "text": [
            "['*.png']\n"
          ]
        }
      ]
    },
    {
      "cell_type": "code",
      "source": [
        "#Iteratre through .png files and convert them to .jpeg files. Save the images and set the quality.\n",
        "for file in glob.glob(\"*.png\"):\n",
        "    im = Image.open(file)\n",
        "    rgb_im = im.convert('RGB')\n",
        "    rgb_im.save(file.replace(\"png\", \"jpg\"), quality=95)\n",
        "\n",
        "\n",
        "'''\n",
        "import os\n",
        "for file in glob.glob(\"*.jpg\"):\n",
        "    os.remove(file)\n",
        "'''"
      ],
      "metadata": {
        "colab": {
          "base_uri": "https://localhost:8080/",
          "height": 35
        },
        "id": "Yk_9sZxAHZow",
        "outputId": "5aeddebf-9ab0-41a6-808d-0c55222b8385"
      },
      "execution_count": 5,
      "outputs": [
        {
          "output_type": "execute_result",
          "data": {
            "text/plain": [
              "'\\nimport os\\nfor file in glob.glob(\"*.jpg\"):\\n    os.remove(file)\\n'"
            ],
            "application/vnd.google.colaboratory.intrinsic+json": {
              "type": "string"
            }
          },
          "metadata": {},
          "execution_count": 5
        }
      ]
    },
    {
      "cell_type": "markdown",
      "source": [
        "Thank you 1littlecoder and Codecamp!"
      ],
      "metadata": {
        "id": "cLjn1jIPJje_"
      }
    }
  ]
}