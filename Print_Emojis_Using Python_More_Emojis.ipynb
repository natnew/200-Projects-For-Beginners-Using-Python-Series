{
  "nbformat": 4,
  "nbformat_minor": 0,
  "metadata": {
    "colab": {
      "name": "Print Emojis Using Python: More Emojis.ipynb",
      "provenance": [],
      "authorship_tag": "ABX9TyMrhdkuRHB8Gg3UKxdkMrNB",
      "include_colab_link": true
    },
    "kernelspec": {
      "name": "python3",
      "display_name": "Python 3"
    },
    "language_info": {
      "name": "python"
    }
  },
  "cells": [
    {
      "cell_type": "markdown",
      "metadata": {
        "id": "view-in-github",
        "colab_type": "text"
      },
      "source": [
        "<a href=\"https://colab.research.google.com/github/natnew/200-Projects-For-Beginners-Using-Python-Series/blob/main/Print_Emojis_Using%C2%A0Python_More_Emojis.ipynb\" target=\"_parent\"><img src=\"https://colab.research.google.com/assets/colab-badge.svg\" alt=\"Open In Colab\"/></a>"
      ]
    },
    {
      "cell_type": "code",
      "execution_count": 1,
      "metadata": {
        "colab": {
          "base_uri": "https://localhost:8080/"
        },
        "id": "8NWv2z-B1TPF",
        "outputId": "a7fbb6f6-5cdf-4b35-820a-10c6c638b0f6"
      },
      "outputs": [
        {
          "output_type": "stream",
          "name": "stdout",
          "text": [
            "Looking in indexes: https://pypi.org/simple, https://us-python.pkg.dev/colab-wheels/public/simple/\n",
            "Collecting emoji\n",
            "  Downloading emoji-2.0.0.tar.gz (197 kB)\n",
            "\u001b[K     |████████████████████████████████| 197 kB 21.7 MB/s \n",
            "\u001b[?25hBuilding wheels for collected packages: emoji\n",
            "  Building wheel for emoji (setup.py) ... \u001b[?25l\u001b[?25hdone\n",
            "  Created wheel for emoji: filename=emoji-2.0.0-py3-none-any.whl size=193022 sha256=313e001a60b32d99f15f8547a23f53c2f8373306641282cf8fc6aeeffdcf4a3a\n",
            "  Stored in directory: /root/.cache/pip/wheels/ec/29/4d/3cfe7452ac7d8d83b1930f8a6205c3c9649b24e80f9029fc38\n",
            "Successfully built emoji\n",
            "Installing collected packages: emoji\n",
            "Successfully installed emoji-2.0.0\n"
          ]
        }
      ],
      "source": [
        "!pip install emoji"
      ]
    },
    {
      "cell_type": "code",
      "source": [
        "import emoji"
      ],
      "metadata": {
        "id": "VoJFOUO81YBx"
      },
      "execution_count": 2,
      "outputs": []
    },
    {
      "cell_type": "code",
      "source": [
        "#Face-Affection: star-struck\n",
        "print(\"\\U0001F929\")\n",
        "print(emoji.emojize(':star-struck:'))"
      ],
      "metadata": {
        "colab": {
          "base_uri": "https://localhost:8080/"
        },
        "id": "w47mK2oX1Ypr",
        "outputId": "b25ef768-ea03-4d27-be6d-71df4999614c"
      },
      "execution_count": 4,
      "outputs": [
        {
          "output_type": "stream",
          "name": "stdout",
          "text": [
            "🤩\n",
            "🤩\n"
          ]
        }
      ]
    },
    {
      "cell_type": "code",
      "source": [
        "#Face-Tongue: zany face\n",
        "print(\"\\U0001F92A\")\n",
        "print(emoji.emojize(':zany_face:'))"
      ],
      "metadata": {
        "colab": {
          "base_uri": "https://localhost:8080/"
        },
        "id": "0zLrJKdC2KWn",
        "outputId": "762d22b3-68ce-4574-f1c9-27397377d3ce"
      },
      "execution_count": 5,
      "outputs": [
        {
          "output_type": "stream",
          "name": "stdout",
          "text": [
            "🤪\n",
            "🤪\n"
          ]
        }
      ]
    },
    {
      "cell_type": "code",
      "source": [
        "#Face-Hand: thinking face\n",
        "print(\"\\U0001F914\")\n",
        "print(emoji.emojize(':thinking_face:'))"
      ],
      "metadata": {
        "colab": {
          "base_uri": "https://localhost:8080/"
        },
        "id": "18bq96-H2VPq",
        "outputId": "2fb819f5-1c79-414b-a67d-b6258863275e"
      },
      "execution_count": 6,
      "outputs": [
        {
          "output_type": "stream",
          "name": "stdout",
          "text": [
            "🤔\n",
            "🤔\n"
          ]
        }
      ]
    },
    {
      "cell_type": "code",
      "source": [
        "#Face-Neutral-Skeptical: neutral face\n",
        "print(\"\\U0001F610\")\n",
        "print(emoji.emojize(':neutral_face:'))"
      ],
      "metadata": {
        "colab": {
          "base_uri": "https://localhost:8080/"
        },
        "id": "VSMZcWar2gmC",
        "outputId": "7dfdadb1-8b84-40c9-99ec-874e701cb146"
      },
      "execution_count": 7,
      "outputs": [
        {
          "output_type": "stream",
          "name": "stdout",
          "text": [
            "😐\n",
            "😐\n"
          ]
        }
      ]
    },
    {
      "cell_type": "code",
      "source": [
        "#Face-Sleepy: sleeping face\n",
        "print(\"\\U0001F634\")\n",
        "print(emoji.emojize(':sleeping_face:'))"
      ],
      "metadata": {
        "colab": {
          "base_uri": "https://localhost:8080/"
        },
        "id": "rmkDjDVs_eeN",
        "outputId": "8608bce1-ac71-4d24-a179-5852a3b37e58"
      },
      "execution_count": 9,
      "outputs": [
        {
          "output_type": "stream",
          "name": "stdout",
          "text": [
            "😴\n",
            "😴\n"
          ]
        }
      ]
    },
    {
      "cell_type": "code",
      "source": [
        "#Face-Unwell: \tface vomiting\n",
        "print(\"\\U0001F92E\")\n",
        "print(emoji.emojize(':face_vomiting:'))"
      ],
      "metadata": {
        "colab": {
          "base_uri": "https://localhost:8080/"
        },
        "id": "jXwbKfiN_ryx",
        "outputId": "6520044d-6e53-4d12-9371-990deee1ddf9"
      },
      "execution_count": 10,
      "outputs": [
        {
          "output_type": "stream",
          "name": "stdout",
          "text": [
            "🤮\n",
            "🤮\n"
          ]
        }
      ]
    },
    {
      "cell_type": "code",
      "source": [
        "#Face-Hat:cowboy hat face\n",
        "print(\"\\U0001F920\")\n",
        "print(emoji.emojize(':cowboy_hat_face:'))"
      ],
      "metadata": {
        "colab": {
          "base_uri": "https://localhost:8080/"
        },
        "id": "bZbsNzaV_4b2",
        "outputId": "4a425690-757d-4102-ff48-f984896df004"
      },
      "execution_count": 13,
      "outputs": [
        {
          "output_type": "stream",
          "name": "stdout",
          "text": [
            "🤠\n",
            "🤠\n"
          ]
        }
      ]
    },
    {
      "cell_type": "code",
      "source": [
        "#Person-Fantasyt:woman superhero\n",
        "print(\"\\U0001F9B8\")\n",
        "print(emoji.emojize(':woman_superhero:'))"
      ],
      "metadata": {
        "colab": {
          "base_uri": "https://localhost:8080/"
        },
        "id": "XG-Nm_yHBF74",
        "outputId": "149f5dc1-3a6c-4fda-acf9-b204243df73d"
      },
      "execution_count": 20,
      "outputs": [
        {
          "output_type": "stream",
          "name": "stdout",
          "text": [
            "🦸\n",
            "🦸‍♀️\n"
          ]
        }
      ]
    },
    {
      "cell_type": "code",
      "source": [
        "#Person-Activity:person walking\n",
        "print(\"\\U0001F6B6\")\n",
        "print(emoji.emojize(':person_walking:'))"
      ],
      "metadata": {
        "colab": {
          "base_uri": "https://localhost:8080/"
        },
        "id": "j4xTAhlwBZVa",
        "outputId": "cd131b47-5f76-4275-adcf-fee09e9cc19c"
      },
      "execution_count": 21,
      "outputs": [
        {
          "output_type": "stream",
          "name": "stdout",
          "text": [
            "🚶\n",
            "🚶\n"
          ]
        }
      ]
    },
    {
      "cell_type": "code",
      "source": [
        "#Person-Sport:skier\n",
        "print(\"\\U0001F3C2\")\n",
        "print(emoji.emojize(':snowboarder:'))"
      ],
      "metadata": {
        "colab": {
          "base_uri": "https://localhost:8080/"
        },
        "id": "VnJzpvLfBmSW",
        "outputId": "d4614948-1b45-40f0-fb19-634dc4d4bf5b"
      },
      "execution_count": 26,
      "outputs": [
        {
          "output_type": "stream",
          "name": "stdout",
          "text": [
            "🏂\n",
            "🏂\n"
          ]
        }
      ]
    }
  ]
}